{
 "cells": [
  {
   "cell_type": "code",
   "execution_count": 12,
   "id": "70ce122a",
   "metadata": {},
   "outputs": [
    {
     "name": "stdout",
     "output_type": "stream",
     "text": [
      "Requirement already satisfied: boto3 in /home/ec2-user/anaconda3/envs/python3/lib/python3.10/site-packages (1.35.63)\r\n",
      "Requirement already satisfied: botocore<1.36.0,>=1.35.63 in /home/ec2-user/anaconda3/envs/python3/lib/python3.10/site-packages (from boto3) (1.35.63)\r\n",
      "Requirement already satisfied: jmespath<2.0.0,>=0.7.1 in /home/ec2-user/anaconda3/envs/python3/lib/python3.10/site-packages (from boto3) (1.0.1)\r\n",
      "Requirement already satisfied: s3transfer<0.11.0,>=0.10.0 in /home/ec2-user/anaconda3/envs/python3/lib/python3.10/site-packages (from boto3) (0.10.3)\r\n",
      "Requirement already satisfied: python-dateutil<3.0.0,>=2.1 in /home/ec2-user/anaconda3/envs/python3/lib/python3.10/site-packages (from botocore<1.36.0,>=1.35.63->boto3) (2.9.0)\r\n",
      "Requirement already satisfied: urllib3!=2.2.0,<3,>=1.25.4 in /home/ec2-user/anaconda3/envs/python3/lib/python3.10/site-packages (from botocore<1.36.0,>=1.35.63->boto3) (2.2.3)\r\n",
      "Requirement already satisfied: six>=1.5 in /home/ec2-user/anaconda3/envs/python3/lib/python3.10/site-packages (from python-dateutil<3.0.0,>=2.1->botocore<1.36.0,>=1.35.63->boto3) (1.16.0)\r\n"
     ]
    }
   ],
   "source": [
    "!pip install boto3\n"
   ]
  },
  {
   "cell_type": "code",
   "execution_count": 13,
   "id": "3782ee55",
   "metadata": {},
   "outputs": [
    {
     "name": "stdout",
     "output_type": "stream",
     "text": [
      "Creating SageMaker Model...\n",
      "Creating Endpoint Configuration...\n",
      "Creating Endpoint...\n",
      "Endpoint recommender-endpoint-4 is being created. This may take a few minutes.\n"
     ]
    }
   ],
   "source": [
    "import boto3\n",
    "\n",
    "# Initialize SageMaker client\n",
    "sagemaker_client = boto3.client('sagemaker', region_name='us-east-1')\n",
    "\n",
    "# Define parameters\n",
    "account_id = \"302263078417\"\n",
    "region = \"us-east-1\"\n",
    "role_arn = \"arn:aws:iam::302263078417:role/service-role/AmazonSageMaker-ExecutionRole-20241130T203442\"\n",
    "\n",
    "ecr_image = f\"{account_id}.dkr.ecr.{region}.amazonaws.com/recommender:latest\"\n",
    "model_name = \"recommender-model-4\"\n",
    "endpoint_config_name = \"recommender-endpoint-config-4\"\n",
    "endpoint_name = \"recommender-endpoint-4\"\n",
    "\n",
    "# Step 1: Create a Model\n",
    "print(\"Creating SageMaker Model...\")\n",
    "sagemaker_client.create_model(\n",
    "    ModelName=model_name,\n",
    "    ExecutionRoleArn=role_arn,\n",
    "    PrimaryContainer={\n",
    "        \"Image\": ecr_image,\n",
    "        \"Environment\": {\n",
    "            \"SAGEMAKER_PROGRAM\": \"/app/serve.py\",\n",
    "        },\n",
    "    },\n",
    ")\n",
    "\n",
    "# Step 2: Create Endpoint Configuration\n",
    "print(\"Creating Endpoint Configuration...\")\n",
    "sagemaker_client.create_endpoint_config(\n",
    "    EndpointConfigName=endpoint_config_name,\n",
    "    ProductionVariants=[\n",
    "        {\n",
    "            \"VariantName\": \"AllTraffic\",\n",
    "            \"ModelName\": model_name,\n",
    "            \"InstanceType\": \"ml.m5.large\",\n",
    "            \"InitialInstanceCount\": 1,\n",
    "        }\n",
    "    ],\n",
    ")\n",
    "\n",
    "# Step 3: Create Endpoint\n",
    "print(\"Creating Endpoint...\")\n",
    "sagemaker_client.create_endpoint(\n",
    "    EndpointName=endpoint_name,\n",
    "    EndpointConfigName=endpoint_config_name,\n",
    ")\n",
    "\n",
    "print(f\"Endpoint {endpoint_name} is being created. This may take a few minutes.\")\n"
   ]
  },
  {
   "cell_type": "code",
   "execution_count": 17,
   "id": "aa815b99",
   "metadata": {},
   "outputs": [
    {
     "name": "stdout",
     "output_type": "stream",
     "text": [
      "Endpoint Status: InService\n",
      "Endpoint is active and ready to use!\n"
     ]
    }
   ],
   "source": [
    "import time\n",
    "\n",
    "while True:\n",
    "    response = sagemaker_client.describe_endpoint(EndpointName=endpoint_name)\n",
    "    status = response[\"EndpointStatus\"]\n",
    "    print(f\"Endpoint Status: {status}\")\n",
    "    if status == \"InService\":\n",
    "        print(\"Endpoint is active and ready to use!\")\n",
    "        break\n",
    "    elif status == \"Failed\":\n",
    "        raise Exception(\"Endpoint creation failed!\")\n",
    "    time.sleep(30)"
   ]
  },
  {
   "cell_type": "code",
   "execution_count": 16,
   "id": "96a3bd56",
   "metadata": {},
   "outputs": [
    {
     "name": "stdout",
     "output_type": "stream",
     "text": [
      "[{\"product_id\":1002095,\"rating\":0.9980817726553161},{\"product_id\":1026440,\"rating\":0.9936988341948562},{\"product_id\":1014421,\"rating\":0.8967766782675373},{\"product_id\":1001412,\"rating\":0.8824142410813516},{\"product_id\":1006016,\"rating\":0.8724768254327793}]\n",
      "\n"
     ]
    }
   ],
   "source": [
    "import boto3\n",
    "import json\n",
    "\n",
    "runtime_client = boto3.client('sagemaker-runtime')\n",
    "\n",
    "# Test the endpoint\n",
    "response = runtime_client.invoke_endpoint(\n",
    "    EndpointName='recommender-endpoint-4',\n",
    "    ContentType='application/json',\n",
    "    Body=json.dumps({\n",
    "        \"user_id\": 1059637,\n",
    "        \"num_recommendations\": 5\n",
    "    })\n",
    ")\n",
    "\n",
    "print(response['Body'].read().decode())\n"
   ]
  },
  {
   "cell_type": "code",
   "execution_count": null,
   "id": "8ecced7a",
   "metadata": {},
   "outputs": [],
   "source": []
  }
 ],
 "metadata": {
  "kernelspec": {
   "display_name": "conda_python3",
   "language": "python",
   "name": "conda_python3"
  },
  "language_info": {
   "codemirror_mode": {
    "name": "ipython",
    "version": 3
   },
   "file_extension": ".py",
   "mimetype": "text/x-python",
   "name": "python",
   "nbconvert_exporter": "python",
   "pygments_lexer": "ipython3",
   "version": "3.10.15"
  }
 },
 "nbformat": 4,
 "nbformat_minor": 5
}
